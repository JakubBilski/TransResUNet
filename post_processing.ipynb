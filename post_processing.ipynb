{
 "cells": [
  {
   "cell_type": "markdown",
   "metadata": {},
   "source": [
    "# Post-Processing for Predicted Lung Masks"
   ]
  },
  {
   "cell_type": "code",
   "execution_count": 1,
   "metadata": {},
   "outputs": [],
   "source": [
    "#importing required packages\n",
    "import cv2\n",
    "import numpy as np\n",
    "import matplotlib.pyplot as plt\n",
    "from skimage import morphology"
   ]
  },
  {
   "cell_type": "code",
   "execution_count": 2,
   "metadata": {},
   "outputs": [],
   "source": [
    "def pprocess(img, SE=(10,30), thresh=15000):\n",
    "    \n",
    "    \"\"\"\n",
    "    pprocess -- function for post-processing\n",
    "\n",
    "    Arguments:\n",
    "    img {numpy.ndarray} -- input image \n",
    "    SE {tuple} -- eliptical structuring element shape\n",
    "    thresh {int} -- threshold value, any connected compnents with pixel area below this value will be eliminated\n",
    "\n",
    "    Returns: \n",
    "    final {numpy.ndarray} -- final post-processed image\n",
    "    \"\"\"\n",
    "    \n",
    "    ##### Post-processing 1: Hole Filling\n",
    "    img_in = img\n",
    "    # Thresholding\n",
    "    # Setting up values >=200 to 0 and values <200 to 255.\n",
    "    thres, img_thres = cv2.threshold(img_in, 220, 255, cv2.THRESH_BINARY);\n",
    "\n",
    "    # Copying the thresholded image.\n",
    "    img_ffill = img_thres.copy()\n",
    "\n",
    "    # Mask for flood-filling\n",
    "    # Here, the size should be 2 pixels larger than the orginal image.\n",
    "    h, w = img_thres.shape[:2]\n",
    "    mask = np.zeros((h+2, w+2), np.uint8)\n",
    "\n",
    "    # Flood-fill starts from node (0, 0)\n",
    "    cv2.floodFill(img_ffill, mask, (0,0), 255);\n",
    "\n",
    "    # Invert flood-fill resultant image\n",
    "    img_ffill_inv = cv2.bitwise_not(img_ffill)\n",
    "  \n",
    "    # Bitwise OR (equavalent to union) the two images to get the final hole filled image.\n",
    "    img_out = img_thres | img_ffill_inv\n",
    "    \n",
    "\n",
    "    ##### Post-processing 2: Removing Unwanted Components\n",
    "    img = img_out/255\n",
    "    img[img>0.5] = 1\n",
    "    img[img<=0.5] = 0\n",
    "    img = morphology.remove_small_objects(img.astype('bool'), thresh)\n",
    "    img = np.array(img*255, dtype=np.uint8)\n",
    "\n",
    "    \n",
    "    ##### Post-processing 3: Morphological Opening \n",
    "    img = cv2.morphologyEx(img, cv2.MORPH_OPEN, cv2.getStructuringElement(cv2.MORPH_ELLIPSE, SE))\n",
    "    \n",
    "    # Returning the final post-processed image\n",
    "    return img"
   ]
  },
  {
   "cell_type": "markdown",
   "metadata": {},
   "source": [
    "# Sample Post-Processing Example"
   ]
  },
  {
   "cell_type": "code",
   "execution_count": 3,
   "metadata": {},
   "outputs": [],
   "source": [
    "original_img = cv2.imread('images/sample.png',0)\n",
    "processed_img = pprocess(original_img)"
   ]
  },
  {
   "cell_type": "code",
   "execution_count": 4,
   "metadata": {},
   "outputs": [
    {
     "data": {
      "image/png": "[encoded data removed]",
      "text/plain": [
       "<matplotlib.figure.Figure at 0x1edef5e8710>"
      ]
     },
     "metadata": {},
     "output_type": "display_data"
    }
   ],
   "source": [
    "fig, (ax1, ax2) = plt.subplots(1, 2)\n",
    "fig.suptitle('Result of Post-Processing')\n",
    "ax1.imshow(original_img, cmap='gray')\n",
    "ax1.title.set_text('Original')\n",
    "ax2.imshow(processed_img, cmap='gray')\n",
    "ax2.title.set_text('After Post-Processing')"
   ]
  }
 ],
 "metadata": {
  "kernelspec": {
   "display_name": "Python 3",
   "language": "python",
   "name": "python3"
  },
  "language_info": {
   "codemirror_mode": {
    "name": "ipython",
    "version": 3
   },
   "file_extension": ".py",
   "mimetype": "text/x-python",
   "name": "python",
   "nbconvert_exporter": "python",
   "pygments_lexer": "ipython3",
   "version": "3.6.4"
  }
 },
 "nbformat": 4,
 "nbformat_minor": 2
}
